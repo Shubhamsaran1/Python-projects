{
 "cells": [
  {
   "cell_type": "markdown",
   "id": "f522a7be-d319-415d-b325-01dcad1a03a1",
   "metadata": {},
   "source": [
    "# Project Name - Pizza Sales"
   ]
  },
  {
   "cell_type": "markdown",
   "id": "64d088dc-8b84-4942-bc62-efde4322f7f0",
   "metadata": {},
   "source": [
    "# what we have to find \n",
    "# 1-total sales\n",
    "# 2-identify which pizza is ordered the most\n",
    "# 3- Identify which pizza is generating more sales\n",
    "# 4 -Identify which pizza category is hotselling.\n",
    "# 5 - identify which day of the week we are getting the most orders.\n",
    "# 6 - identify the time at which we are getting high orders and the time at which we are getting the lowest orders.\n",
    "# (7) Identify at which time of the day, people are ordering more pizzas(morning/evening/afternoon/night)¶"
   ]
  },
  {
   "cell_type": "code",
   "execution_count": 30,
   "id": "0fad7512-02a6-4860-84a5-146336f99542",
   "metadata": {},
   "outputs": [
    {
     "data": {
      "text/html": [
       "<div>\n",
       "<style scoped>\n",
       "    .dataframe tbody tr th:only-of-type {\n",
       "        vertical-align: middle;\n",
       "    }\n",
       "\n",
       "    .dataframe tbody tr th {\n",
       "        vertical-align: top;\n",
       "    }\n",
       "\n",
       "    .dataframe thead th {\n",
       "        text-align: right;\n",
       "    }\n",
       "</style>\n",
       "<table border=\"1\" class=\"dataframe\">\n",
       "  <thead>\n",
       "    <tr style=\"text-align: right;\">\n",
       "      <th></th>\n",
       "      <th>pizza_id</th>\n",
       "      <th>pizza_type_id</th>\n",
       "      <th>size</th>\n",
       "      <th>price</th>\n",
       "    </tr>\n",
       "  </thead>\n",
       "  <tbody>\n",
       "    <tr>\n",
       "      <th>0</th>\n",
       "      <td>bbq_ckn_s</td>\n",
       "      <td>bbq_ckn</td>\n",
       "      <td>S</td>\n",
       "      <td>12.75</td>\n",
       "    </tr>\n",
       "  </tbody>\n",
       "</table>\n",
       "</div>"
      ],
      "text/plain": [
       "    pizza_id pizza_type_id size  price\n",
       "0  bbq_ckn_s       bbq_ckn    S  12.75"
      ]
     },
     "execution_count": 30,
     "metadata": {},
     "output_type": "execute_result"
    }
   ],
   "source": [
    "import pandas as pd\n",
    "pizzas=pd.read_csv(\"pizzas.csv\")\n",
    "pizzas.head(1)"
   ]
  },
  {
   "cell_type": "code",
   "execution_count": 31,
   "id": "034b5803-7289-449c-892e-b53b19d5d925",
   "metadata": {},
   "outputs": [
    {
     "data": {
      "text/html": [
       "<div>\n",
       "<style scoped>\n",
       "    .dataframe tbody tr th:only-of-type {\n",
       "        vertical-align: middle;\n",
       "    }\n",
       "\n",
       "    .dataframe tbody tr th {\n",
       "        vertical-align: top;\n",
       "    }\n",
       "\n",
       "    .dataframe thead th {\n",
       "        text-align: right;\n",
       "    }\n",
       "</style>\n",
       "<table border=\"1\" class=\"dataframe\">\n",
       "  <thead>\n",
       "    <tr style=\"text-align: right;\">\n",
       "      <th></th>\n",
       "      <th>pizza_type_id</th>\n",
       "      <th>name</th>\n",
       "      <th>category</th>\n",
       "    </tr>\n",
       "  </thead>\n",
       "  <tbody>\n",
       "    <tr>\n",
       "      <th>0</th>\n",
       "      <td>bbq_ckn</td>\n",
       "      <td>The Barbecue Chicken Pizza</td>\n",
       "      <td>Chicken</td>\n",
       "    </tr>\n",
       "  </tbody>\n",
       "</table>\n",
       "</div>"
      ],
      "text/plain": [
       "  pizza_type_id                        name category\n",
       "0       bbq_ckn  The Barbecue Chicken Pizza  Chicken"
      ]
     },
     "execution_count": 31,
     "metadata": {},
     "output_type": "execute_result"
    }
   ],
   "source": [
    "import pandas as pd\n",
    "pizza_details=pd.read_csv(\"pizza_details.csv\")\n",
    "pizza_details.head(1)\n"
   ]
  },
  {
   "cell_type": "code",
   "execution_count": 32,
   "id": "6ab7aab6-e645-433a-91bf-b9db570b1304",
   "metadata": {},
   "outputs": [
    {
     "data": {
      "text/html": [
       "<div>\n",
       "<style scoped>\n",
       "    .dataframe tbody tr th:only-of-type {\n",
       "        vertical-align: middle;\n",
       "    }\n",
       "\n",
       "    .dataframe tbody tr th {\n",
       "        vertical-align: top;\n",
       "    }\n",
       "\n",
       "    .dataframe thead th {\n",
       "        text-align: right;\n",
       "    }\n",
       "</style>\n",
       "<table border=\"1\" class=\"dataframe\">\n",
       "  <thead>\n",
       "    <tr style=\"text-align: right;\">\n",
       "      <th></th>\n",
       "      <th>order_id</th>\n",
       "      <th>date</th>\n",
       "      <th>time</th>\n",
       "    </tr>\n",
       "  </thead>\n",
       "  <tbody>\n",
       "    <tr>\n",
       "      <th>0</th>\n",
       "      <td>1</td>\n",
       "      <td>2015-01-01</td>\n",
       "      <td>11:38:36</td>\n",
       "    </tr>\n",
       "  </tbody>\n",
       "</table>\n",
       "</div>"
      ],
      "text/plain": [
       "   order_id        date      time\n",
       "0         1  2015-01-01  11:38:36"
      ]
     },
     "execution_count": 32,
     "metadata": {},
     "output_type": "execute_result"
    }
   ],
   "source": [
    "import pandas as pd\n",
    "orders=pd.read_csv(\"orders.csv\")\n",
    "orders.head(1)\n"
   ]
  },
  {
   "cell_type": "code",
   "execution_count": 33,
   "id": "8c00671a-73c8-4dfa-a16e-516def4a6257",
   "metadata": {},
   "outputs": [
    {
     "data": {
      "text/html": [
       "<div>\n",
       "<style scoped>\n",
       "    .dataframe tbody tr th:only-of-type {\n",
       "        vertical-align: middle;\n",
       "    }\n",
       "\n",
       "    .dataframe tbody tr th {\n",
       "        vertical-align: top;\n",
       "    }\n",
       "\n",
       "    .dataframe thead th {\n",
       "        text-align: right;\n",
       "    }\n",
       "</style>\n",
       "<table border=\"1\" class=\"dataframe\">\n",
       "  <thead>\n",
       "    <tr style=\"text-align: right;\">\n",
       "      <th></th>\n",
       "      <th>order_details_id</th>\n",
       "      <th>order_id</th>\n",
       "      <th>pizza_id</th>\n",
       "      <th>quantity</th>\n",
       "    </tr>\n",
       "  </thead>\n",
       "  <tbody>\n",
       "    <tr>\n",
       "      <th>0</th>\n",
       "      <td>1</td>\n",
       "      <td>1</td>\n",
       "      <td>hawaiian_m</td>\n",
       "      <td>1</td>\n",
       "    </tr>\n",
       "  </tbody>\n",
       "</table>\n",
       "</div>"
      ],
      "text/plain": [
       "   order_details_id  order_id    pizza_id  quantity\n",
       "0                 1         1  hawaiian_m         1"
      ]
     },
     "execution_count": 33,
     "metadata": {},
     "output_type": "execute_result"
    }
   ],
   "source": [
    "import pandas as pd\n",
    "order_details=pd.read_csv(\"order_details.csv\")\n",
    "order_details.head(1)"
   ]
  },
  {
   "cell_type": "markdown",
   "id": "34ab8c30-c469-4b8b-91b7-f3857a4bed72",
   "metadata": {},
   "source": [
    "# (1)- Total Sales\n"
   ]
  },
  {
   "cell_type": "code",
   "execution_count": 34,
   "id": "ec3dadf3-f0e1-410f-8dd4-f5ed677b9e52",
   "metadata": {},
   "outputs": [
    {
     "data": {
      "text/html": [
       "<div>\n",
       "<style scoped>\n",
       "    .dataframe tbody tr th:only-of-type {\n",
       "        vertical-align: middle;\n",
       "    }\n",
       "\n",
       "    .dataframe tbody tr th {\n",
       "        vertical-align: top;\n",
       "    }\n",
       "\n",
       "    .dataframe thead th {\n",
       "        text-align: right;\n",
       "    }\n",
       "</style>\n",
       "<table border=\"1\" class=\"dataframe\">\n",
       "  <thead>\n",
       "    <tr style=\"text-align: right;\">\n",
       "      <th></th>\n",
       "      <th>pizza_id</th>\n",
       "      <th>pizza_type_id</th>\n",
       "      <th>size</th>\n",
       "      <th>price</th>\n",
       "      <th>order_details_id</th>\n",
       "      <th>order_id</th>\n",
       "      <th>quantity</th>\n",
       "    </tr>\n",
       "  </thead>\n",
       "  <tbody>\n",
       "    <tr>\n",
       "      <th>0</th>\n",
       "      <td>bbq_ckn_s</td>\n",
       "      <td>bbq_ckn</td>\n",
       "      <td>S</td>\n",
       "      <td>12.75</td>\n",
       "      <td>11</td>\n",
       "      <td>6</td>\n",
       "      <td>1</td>\n",
       "    </tr>\n",
       "  </tbody>\n",
       "</table>\n",
       "</div>"
      ],
      "text/plain": [
       "    pizza_id pizza_type_id size  price  order_details_id  order_id  quantity\n",
       "0  bbq_ckn_s       bbq_ckn    S  12.75                11         6         1"
      ]
     },
     "execution_count": 34,
     "metadata": {},
     "output_type": "execute_result"
    }
   ],
   "source": [
    "total_sales=pd.merge(pizzas,order_details,on='pizza_id',how='inner')\n",
    "total_sales.head(1)"
   ]
  },
  {
   "cell_type": "code",
   "execution_count": 17,
   "id": "a3bd333f-8714-4565-b2e0-66b90fc3b96c",
   "metadata": {},
   "outputs": [
    {
     "data": {
      "text/html": [
       "<div>\n",
       "<style scoped>\n",
       "    .dataframe tbody tr th:only-of-type {\n",
       "        vertical-align: middle;\n",
       "    }\n",
       "\n",
       "    .dataframe tbody tr th {\n",
       "        vertical-align: top;\n",
       "    }\n",
       "\n",
       "    .dataframe thead th {\n",
       "        text-align: right;\n",
       "    }\n",
       "</style>\n",
       "<table border=\"1\" class=\"dataframe\">\n",
       "  <thead>\n",
       "    <tr style=\"text-align: right;\">\n",
       "      <th></th>\n",
       "      <th>pizza_id</th>\n",
       "      <th>pizza_type_id</th>\n",
       "      <th>size</th>\n",
       "      <th>price</th>\n",
       "      <th>order_details_id</th>\n",
       "      <th>order_id</th>\n",
       "      <th>quantity</th>\n",
       "    </tr>\n",
       "  </thead>\n",
       "  <tbody>\n",
       "    <tr>\n",
       "      <th>0</th>\n",
       "      <td>bbq_ckn_s</td>\n",
       "      <td>bbq_ckn</td>\n",
       "      <td>S</td>\n",
       "      <td>12.75</td>\n",
       "      <td>11</td>\n",
       "      <td>6</td>\n",
       "      <td>1</td>\n",
       "    </tr>\n",
       "    <tr>\n",
       "      <th>1</th>\n",
       "      <td>bbq_ckn_s</td>\n",
       "      <td>bbq_ckn</td>\n",
       "      <td>S</td>\n",
       "      <td>12.75</td>\n",
       "      <td>239</td>\n",
       "      <td>102</td>\n",
       "      <td>1</td>\n",
       "    </tr>\n",
       "  </tbody>\n",
       "</table>\n",
       "</div>"
      ],
      "text/plain": [
       "    pizza_id pizza_type_id size  price  order_details_id  order_id  quantity\n",
       "0  bbq_ckn_s       bbq_ckn    S  12.75                11         6         1\n",
       "1  bbq_ckn_s       bbq_ckn    S  12.75               239       102         1"
      ]
     },
     "execution_count": 17,
     "metadata": {},
     "output_type": "execute_result"
    }
   ],
   "source": [
    "total_sales.head(2)"
   ]
  },
  {
   "cell_type": "code",
   "execution_count": 35,
   "id": "96db54af-e31a-4a11-903c-42e53511f8f5",
   "metadata": {},
   "outputs": [
    {
     "data": {
      "text/html": [
       "<div>\n",
       "<style scoped>\n",
       "    .dataframe tbody tr th:only-of-type {\n",
       "        vertical-align: middle;\n",
       "    }\n",
       "\n",
       "    .dataframe tbody tr th {\n",
       "        vertical-align: top;\n",
       "    }\n",
       "\n",
       "    .dataframe thead th {\n",
       "        text-align: right;\n",
       "    }\n",
       "</style>\n",
       "<table border=\"1\" class=\"dataframe\">\n",
       "  <thead>\n",
       "    <tr style=\"text-align: right;\">\n",
       "      <th></th>\n",
       "      <th>pizza_id</th>\n",
       "      <th>pizza_type_id</th>\n",
       "      <th>size</th>\n",
       "      <th>price</th>\n",
       "      <th>order_details_id</th>\n",
       "      <th>order_id</th>\n",
       "      <th>quantity</th>\n",
       "      <th>sales</th>\n",
       "    </tr>\n",
       "  </thead>\n",
       "  <tbody>\n",
       "    <tr>\n",
       "      <th>0</th>\n",
       "      <td>bbq_ckn_s</td>\n",
       "      <td>bbq_ckn</td>\n",
       "      <td>S</td>\n",
       "      <td>12.75</td>\n",
       "      <td>11</td>\n",
       "      <td>6</td>\n",
       "      <td>1</td>\n",
       "      <td>12.75</td>\n",
       "    </tr>\n",
       "  </tbody>\n",
       "</table>\n",
       "</div>"
      ],
      "text/plain": [
       "    pizza_id pizza_type_id size  price  order_details_id  order_id  quantity  \\\n",
       "0  bbq_ckn_s       bbq_ckn    S  12.75                11         6         1   \n",
       "\n",
       "   sales  \n",
       "0  12.75  "
      ]
     },
     "execution_count": 35,
     "metadata": {},
     "output_type": "execute_result"
    }
   ],
   "source": [
    "total_sales[\"sales\"]=total_sales[\"price\"] * total_sales[\"quantity\"]\n",
    "total_sales.head(1)"
   ]
  },
  {
   "cell_type": "code",
   "execution_count": 36,
   "id": "b8a38da6-555b-49ec-8123-bb8dbf6f9d60",
   "metadata": {},
   "outputs": [
    {
     "data": {
      "text/plain": [
       "817860.05"
      ]
     },
     "execution_count": 36,
     "metadata": {},
     "output_type": "execute_result"
    }
   ],
   "source": [
    "total_sales[\"sales\"].sum()"
   ]
  },
  {
   "cell_type": "markdown",
   "id": "bca5e891-ca2e-4db7-adba-f18bdd27a9ea",
   "metadata": {},
   "source": [
    "# (2) identify which pizza is ordered the most"
   ]
  },
  {
   "cell_type": "code",
   "execution_count": 37,
   "id": "97cc5f59-d74b-4865-8177-272c2070141e",
   "metadata": {},
   "outputs": [
    {
     "data": {
      "text/html": [
       "<div>\n",
       "<style scoped>\n",
       "    .dataframe tbody tr th:only-of-type {\n",
       "        vertical-align: middle;\n",
       "    }\n",
       "\n",
       "    .dataframe tbody tr th {\n",
       "        vertical-align: top;\n",
       "    }\n",
       "\n",
       "    .dataframe thead th {\n",
       "        text-align: right;\n",
       "    }\n",
       "</style>\n",
       "<table border=\"1\" class=\"dataframe\">\n",
       "  <thead>\n",
       "    <tr style=\"text-align: right;\">\n",
       "      <th></th>\n",
       "      <th>pizza_id</th>\n",
       "      <th>pizza_type_id</th>\n",
       "      <th>size</th>\n",
       "      <th>price</th>\n",
       "      <th>order_details_id</th>\n",
       "      <th>order_id</th>\n",
       "      <th>quantity</th>\n",
       "      <th>sales</th>\n",
       "      <th>name</th>\n",
       "      <th>category</th>\n",
       "    </tr>\n",
       "  </thead>\n",
       "  <tbody>\n",
       "    <tr>\n",
       "      <th>0</th>\n",
       "      <td>bbq_ckn_s</td>\n",
       "      <td>bbq_ckn</td>\n",
       "      <td>S</td>\n",
       "      <td>12.75</td>\n",
       "      <td>11</td>\n",
       "      <td>6</td>\n",
       "      <td>1</td>\n",
       "      <td>12.75</td>\n",
       "      <td>The Barbecue Chicken Pizza</td>\n",
       "      <td>Chicken</td>\n",
       "    </tr>\n",
       "  </tbody>\n",
       "</table>\n",
       "</div>"
      ],
      "text/plain": [
       "    pizza_id pizza_type_id size  price  order_details_id  order_id  quantity  \\\n",
       "0  bbq_ckn_s       bbq_ckn    S  12.75                11         6         1   \n",
       "\n",
       "   sales                        name category  \n",
       "0  12.75  The Barbecue Chicken Pizza  Chicken  "
      ]
     },
     "execution_count": 37,
     "metadata": {},
     "output_type": "execute_result"
    }
   ],
   "source": [
    "most_ordered_pizza=pd.merge(total_sales,pizza_details,on=\"pizza_type_id\",how='inner')\n",
    "most_ordered_pizza.head(1)"
   ]
  },
  {
   "cell_type": "code",
   "execution_count": 38,
   "id": "3b52a61e-3f72-4b03-b319-2889a9ccda30",
   "metadata": {},
   "outputs": [
    {
     "name": "stdout",
     "output_type": "stream",
     "text": [
      "most order pizza is : The Classic Deluxe Pizza\n"
     ]
    }
   ],
   "source": [
    "most_ordered=most_ordered_pizza.groupby([\"name\"]).agg({\"order_details_id\":'count'})\n",
    "#most_ordered[\"order_details_id\"].idxmax()\n",
    "print(\"most order pizza is :\",most_ordered[\"order_details_id\"].idxmax())"
   ]
  },
  {
   "cell_type": "markdown",
   "id": "f6914b40-fa41-42c0-a24e-79f1092bfb63",
   "metadata": {},
   "source": [
    "# (3)- Identify which pizza is generating more sales"
   ]
  },
  {
   "cell_type": "code",
   "execution_count": 39,
   "id": "8d1cb4b9-260d-43af-a4f9-5cd60bf7fdb5",
   "metadata": {},
   "outputs": [
    {
     "name": "stdout",
     "output_type": "stream",
     "text": [
      "The Thai Chicken Pizza : This pizza is  generating more sales\n"
     ]
    },
    {
     "data": {
      "text/html": [
       "<div>\n",
       "<style scoped>\n",
       "    .dataframe tbody tr th:only-of-type {\n",
       "        vertical-align: middle;\n",
       "    }\n",
       "\n",
       "    .dataframe tbody tr th {\n",
       "        vertical-align: top;\n",
       "    }\n",
       "\n",
       "    .dataframe thead th {\n",
       "        text-align: right;\n",
       "    }\n",
       "</style>\n",
       "<table border=\"1\" class=\"dataframe\">\n",
       "  <thead>\n",
       "    <tr style=\"text-align: right;\">\n",
       "      <th></th>\n",
       "      <th>sales</th>\n",
       "    </tr>\n",
       "    <tr>\n",
       "      <th>name</th>\n",
       "      <th></th>\n",
       "    </tr>\n",
       "  </thead>\n",
       "  <tbody>\n",
       "    <tr>\n",
       "      <th>The Barbecue Chicken Pizza</th>\n",
       "      <td>42768.00</td>\n",
       "    </tr>\n",
       "    <tr>\n",
       "      <th>The Big Meat Pizza</th>\n",
       "      <td>22968.00</td>\n",
       "    </tr>\n",
       "    <tr>\n",
       "      <th>The Brie Carre Pizza</th>\n",
       "      <td>11588.50</td>\n",
       "    </tr>\n",
       "    <tr>\n",
       "      <th>The Calabrese Pizza</th>\n",
       "      <td>15934.25</td>\n",
       "    </tr>\n",
       "    <tr>\n",
       "      <th>The California Chicken Pizza</th>\n",
       "      <td>41409.50</td>\n",
       "    </tr>\n",
       "    <tr>\n",
       "      <th>The Chicken Alfredo Pizza</th>\n",
       "      <td>16900.25</td>\n",
       "    </tr>\n",
       "    <tr>\n",
       "      <th>The Chicken Pesto Pizza</th>\n",
       "      <td>16701.75</td>\n",
       "    </tr>\n",
       "    <tr>\n",
       "      <th>The Classic Deluxe Pizza</th>\n",
       "      <td>38180.50</td>\n",
       "    </tr>\n",
       "    <tr>\n",
       "      <th>The Five Cheese Pizza</th>\n",
       "      <td>26066.50</td>\n",
       "    </tr>\n",
       "    <tr>\n",
       "      <th>The Four Cheese Pizza</th>\n",
       "      <td>32265.70</td>\n",
       "    </tr>\n",
       "    <tr>\n",
       "      <th>The Greek Pizza</th>\n",
       "      <td>28454.10</td>\n",
       "    </tr>\n",
       "    <tr>\n",
       "      <th>The Green Garden Pizza</th>\n",
       "      <td>13955.75</td>\n",
       "    </tr>\n",
       "    <tr>\n",
       "      <th>The Hawaiian Pizza</th>\n",
       "      <td>32273.25</td>\n",
       "    </tr>\n",
       "    <tr>\n",
       "      <th>The Italian Capocollo Pizza</th>\n",
       "      <td>25094.00</td>\n",
       "    </tr>\n",
       "    <tr>\n",
       "      <th>The Italian Supreme Pizza</th>\n",
       "      <td>33476.75</td>\n",
       "    </tr>\n",
       "    <tr>\n",
       "      <th>The Italian Vegetables Pizza</th>\n",
       "      <td>16019.25</td>\n",
       "    </tr>\n",
       "    <tr>\n",
       "      <th>The Mediterranean Pizza</th>\n",
       "      <td>15360.50</td>\n",
       "    </tr>\n",
       "    <tr>\n",
       "      <th>The Mexicana Pizza</th>\n",
       "      <td>26780.75</td>\n",
       "    </tr>\n",
       "    <tr>\n",
       "      <th>The Napolitana Pizza</th>\n",
       "      <td>24087.00</td>\n",
       "    </tr>\n",
       "    <tr>\n",
       "      <th>The Pepper Salami Pizza</th>\n",
       "      <td>25529.00</td>\n",
       "    </tr>\n",
       "    <tr>\n",
       "      <th>The Pepperoni Pizza</th>\n",
       "      <td>30161.75</td>\n",
       "    </tr>\n",
       "    <tr>\n",
       "      <th>The Pepperoni, Mushroom, and Peppers Pizza</th>\n",
       "      <td>18834.50</td>\n",
       "    </tr>\n",
       "    <tr>\n",
       "      <th>The Prosciutto and Arugula Pizza</th>\n",
       "      <td>24193.25</td>\n",
       "    </tr>\n",
       "    <tr>\n",
       "      <th>The Sicilian Pizza</th>\n",
       "      <td>30940.50</td>\n",
       "    </tr>\n",
       "    <tr>\n",
       "      <th>The Soppressata Pizza</th>\n",
       "      <td>16425.75</td>\n",
       "    </tr>\n",
       "    <tr>\n",
       "      <th>The Southwest Chicken Pizza</th>\n",
       "      <td>34705.75</td>\n",
       "    </tr>\n",
       "    <tr>\n",
       "      <th>The Spicy Italian Pizza</th>\n",
       "      <td>34831.25</td>\n",
       "    </tr>\n",
       "    <tr>\n",
       "      <th>The Spinach Pesto Pizza</th>\n",
       "      <td>15596.00</td>\n",
       "    </tr>\n",
       "    <tr>\n",
       "      <th>The Spinach Supreme Pizza</th>\n",
       "      <td>15277.75</td>\n",
       "    </tr>\n",
       "    <tr>\n",
       "      <th>The Spinach and Feta Pizza</th>\n",
       "      <td>23271.25</td>\n",
       "    </tr>\n",
       "    <tr>\n",
       "      <th>The Thai Chicken Pizza</th>\n",
       "      <td>43434.25</td>\n",
       "    </tr>\n",
       "    <tr>\n",
       "      <th>The Vegetables + Vegetables Pizza</th>\n",
       "      <td>24374.75</td>\n",
       "    </tr>\n",
       "  </tbody>\n",
       "</table>\n",
       "</div>"
      ],
      "text/plain": [
       "                                               sales\n",
       "name                                                \n",
       "The Barbecue Chicken Pizza                  42768.00\n",
       "The Big Meat Pizza                          22968.00\n",
       "The Brie Carre Pizza                        11588.50\n",
       "The Calabrese Pizza                         15934.25\n",
       "The California Chicken Pizza                41409.50\n",
       "The Chicken Alfredo Pizza                   16900.25\n",
       "The Chicken Pesto Pizza                     16701.75\n",
       "The Classic Deluxe Pizza                    38180.50\n",
       "The Five Cheese Pizza                       26066.50\n",
       "The Four Cheese Pizza                       32265.70\n",
       "The Greek Pizza                             28454.10\n",
       "The Green Garden Pizza                      13955.75\n",
       "The Hawaiian Pizza                          32273.25\n",
       "The Italian Capocollo Pizza                 25094.00\n",
       "The Italian Supreme Pizza                   33476.75\n",
       "The Italian Vegetables Pizza                16019.25\n",
       "The Mediterranean Pizza                     15360.50\n",
       "The Mexicana Pizza                          26780.75\n",
       "The Napolitana Pizza                        24087.00\n",
       "The Pepper Salami Pizza                     25529.00\n",
       "The Pepperoni Pizza                         30161.75\n",
       "The Pepperoni, Mushroom, and Peppers Pizza  18834.50\n",
       "The Prosciutto and Arugula Pizza            24193.25\n",
       "The Sicilian Pizza                          30940.50\n",
       "The Soppressata Pizza                       16425.75\n",
       "The Southwest Chicken Pizza                 34705.75\n",
       "The Spicy Italian Pizza                     34831.25\n",
       "The Spinach Pesto Pizza                     15596.00\n",
       "The Spinach Supreme Pizza                   15277.75\n",
       "The Spinach and Feta Pizza                  23271.25\n",
       "The Thai Chicken Pizza                      43434.25\n",
       "The Vegetables + Vegetables Pizza           24374.75"
      ]
     },
     "execution_count": 39,
     "metadata": {},
     "output_type": "execute_result"
    }
   ],
   "source": [
    "more_sales=most_ordered_pizza.groupby([\"name\"]).agg({\"sales\":\"sum\"})\n",
    "print(more_sales[\"sales\"].idxmax(),\": This pizza is  generating more sales\")\n",
    "more_sales"
   ]
  },
  {
   "cell_type": "markdown",
   "id": "c73ebc11-e655-4614-ab98-b248cec3f7ce",
   "metadata": {},
   "source": [
    "# (4)- Identify which pizza category is hotselling."
   ]
  },
  {
   "cell_type": "code",
   "execution_count": 40,
   "id": "b0497993-d37a-4095-a787-a63c89876d01",
   "metadata": {},
   "outputs": [
    {
     "name": "stdout",
     "output_type": "stream",
     "text": [
      "which pizza category is hotselling : Classic\n"
     ]
    },
    {
     "data": {
      "text/html": [
       "<div>\n",
       "<style scoped>\n",
       "    .dataframe tbody tr th:only-of-type {\n",
       "        vertical-align: middle;\n",
       "    }\n",
       "\n",
       "    .dataframe tbody tr th {\n",
       "        vertical-align: top;\n",
       "    }\n",
       "\n",
       "    .dataframe thead th {\n",
       "        text-align: right;\n",
       "    }\n",
       "</style>\n",
       "<table border=\"1\" class=\"dataframe\">\n",
       "  <thead>\n",
       "    <tr style=\"text-align: right;\">\n",
       "      <th></th>\n",
       "      <th>order_details_id</th>\n",
       "    </tr>\n",
       "    <tr>\n",
       "      <th>category</th>\n",
       "      <th></th>\n",
       "    </tr>\n",
       "  </thead>\n",
       "  <tbody>\n",
       "    <tr>\n",
       "      <th>Chicken</th>\n",
       "      <td>10815</td>\n",
       "    </tr>\n",
       "    <tr>\n",
       "      <th>Classic</th>\n",
       "      <td>14579</td>\n",
       "    </tr>\n",
       "    <tr>\n",
       "      <th>Supreme</th>\n",
       "      <td>11777</td>\n",
       "    </tr>\n",
       "    <tr>\n",
       "      <th>Veggie</th>\n",
       "      <td>11449</td>\n",
       "    </tr>\n",
       "  </tbody>\n",
       "</table>\n",
       "</div>"
      ],
      "text/plain": [
       "          order_details_id\n",
       "category                  \n",
       "Chicken              10815\n",
       "Classic              14579\n",
       "Supreme              11777\n",
       "Veggie               11449"
      ]
     },
     "execution_count": 40,
     "metadata": {},
     "output_type": "execute_result"
    }
   ],
   "source": [
    "pizza_hotselling=most_ordered_pizza.groupby(['category']).agg({\"order_details_id\":'count'})\n",
    "print(\"which pizza category is hotselling :\",pizza_hotselling[\"order_details_id\"].idxmax())\n",
    "pizza_hotselling"
   ]
  },
  {
   "cell_type": "code",
   "execution_count": 41,
   "id": "0a510a4e-2865-4390-988b-a976fad9d276",
   "metadata": {},
   "outputs": [
    {
     "data": {
      "image/png": "[encoded data removed]",
      "text/plain": [
       "<Figure size 640x480 with 1 Axes>"
      ]
     },
     "metadata": {},
     "output_type": "display_data"
    }
   ],
   "source": [
    "import matplotlib.pyplot as plt\n",
    "import pandas as pd\n",
    "import seaborn as sns\n",
    "\n",
    "hot=sns.countplot(x='category',data=most_ordered_pizza)\n",
    "plt.title(\"pizza category hotselling\")\n",
    "plt.show()"
   ]
  },
  {
   "cell_type": "markdown",
   "id": "faca9735-bddf-44a5-a2c3-20c5f2edbaf0",
   "metadata": {},
   "source": [
    "# (5) identify which day of the week we are getting the most orders.\r\n"
   ]
  },
  {
   "cell_type": "code",
   "execution_count": 5,
   "id": "06c86d3a-1d11-499f-800c-eb6fdefbb5de",
   "metadata": {},
   "outputs": [
    {
     "name": "stdout",
     "output_type": "stream",
     "text": [
      "<class 'pandas.core.frame.DataFrame'>\n",
      "RangeIndex: 21350 entries, 0 to 21349\n",
      "Data columns (total 3 columns):\n",
      " #   Column    Non-Null Count  Dtype \n",
      "---  ------    --------------  ----- \n",
      " 0   order_id  21350 non-null  int64 \n",
      " 1   date      21350 non-null  object\n",
      " 2   time      21350 non-null  object\n",
      "dtypes: int64(1), object(2)\n",
      "memory usage: 500.5+ KB\n"
     ]
    }
   ],
   "source": [
    "orders.info()"
   ]
  },
  {
   "cell_type": "code",
   "execution_count": 42,
   "id": "41eb3bba-9732-4524-8d54-8ce8eda65f51",
   "metadata": {},
   "outputs": [
    {
     "name": "stdout",
     "output_type": "stream",
     "text": [
      "<class 'pandas.core.frame.DataFrame'>\n",
      "RangeIndex: 21350 entries, 0 to 21349\n",
      "Data columns (total 3 columns):\n",
      " #   Column    Non-Null Count  Dtype         \n",
      "---  ------    --------------  -----         \n",
      " 0   order_id  21350 non-null  int64         \n",
      " 1   date      21350 non-null  datetime64[ns]\n",
      " 2   time      21350 non-null  object        \n",
      "dtypes: datetime64[ns](1), int64(1), object(1)\n",
      "memory usage: 500.5+ KB\n"
     ]
    }
   ],
   "source": [
    "orders['date']=pd.to_datetime(orders['date'])\n",
    "orders.info()"
   ]
  },
  {
   "cell_type": "code",
   "execution_count": 43,
   "id": "8f94b001-f2fe-4967-b0ee-be204b96d72a",
   "metadata": {},
   "outputs": [
    {
     "data": {
      "text/html": [
       "<div>\n",
       "<style scoped>\n",
       "    .dataframe tbody tr th:only-of-type {\n",
       "        vertical-align: middle;\n",
       "    }\n",
       "\n",
       "    .dataframe tbody tr th {\n",
       "        vertical-align: top;\n",
       "    }\n",
       "\n",
       "    .dataframe thead th {\n",
       "        text-align: right;\n",
       "    }\n",
       "</style>\n",
       "<table border=\"1\" class=\"dataframe\">\n",
       "  <thead>\n",
       "    <tr style=\"text-align: right;\">\n",
       "      <th></th>\n",
       "      <th>order_id</th>\n",
       "      <th>date</th>\n",
       "      <th>time</th>\n",
       "      <th>weekday</th>\n",
       "    </tr>\n",
       "  </thead>\n",
       "  <tbody>\n",
       "    <tr>\n",
       "      <th>0</th>\n",
       "      <td>1</td>\n",
       "      <td>2015-01-01</td>\n",
       "      <td>11:38:36</td>\n",
       "      <td>Thursday</td>\n",
       "    </tr>\n",
       "  </tbody>\n",
       "</table>\n",
       "</div>"
      ],
      "text/plain": [
       "   order_id       date      time   weekday\n",
       "0         1 2015-01-01  11:38:36  Thursday"
      ]
     },
     "execution_count": 43,
     "metadata": {},
     "output_type": "execute_result"
    }
   ],
   "source": [
    "orders['weekday']=orders['date'].dt.strftime(\"%A\")\n",
    "orders.head(1)"
   ]
  },
  {
   "cell_type": "code",
   "execution_count": 44,
   "id": "30bbe9a9-7246-44f5-ba39-b51ce41f688a",
   "metadata": {},
   "outputs": [
    {
     "name": "stdout",
     "output_type": "stream",
     "text": [
      "which day of the week we are getting the most orders : Friday\n"
     ]
    },
    {
     "data": {
      "text/html": [
       "<div>\n",
       "<style scoped>\n",
       "    .dataframe tbody tr th:only-of-type {\n",
       "        vertical-align: middle;\n",
       "    }\n",
       "\n",
       "    .dataframe tbody tr th {\n",
       "        vertical-align: top;\n",
       "    }\n",
       "\n",
       "    .dataframe thead th {\n",
       "        text-align: right;\n",
       "    }\n",
       "</style>\n",
       "<table border=\"1\" class=\"dataframe\">\n",
       "  <thead>\n",
       "    <tr style=\"text-align: right;\">\n",
       "      <th></th>\n",
       "      <th>order_id</th>\n",
       "    </tr>\n",
       "    <tr>\n",
       "      <th>weekday</th>\n",
       "      <th></th>\n",
       "    </tr>\n",
       "  </thead>\n",
       "  <tbody>\n",
       "    <tr>\n",
       "      <th>Friday</th>\n",
       "      <td>3538</td>\n",
       "    </tr>\n",
       "    <tr>\n",
       "      <th>Monday</th>\n",
       "      <td>2794</td>\n",
       "    </tr>\n",
       "    <tr>\n",
       "      <th>Saturday</th>\n",
       "      <td>3158</td>\n",
       "    </tr>\n",
       "    <tr>\n",
       "      <th>Sunday</th>\n",
       "      <td>2624</td>\n",
       "    </tr>\n",
       "    <tr>\n",
       "      <th>Thursday</th>\n",
       "      <td>3239</td>\n",
       "    </tr>\n",
       "    <tr>\n",
       "      <th>Tuesday</th>\n",
       "      <td>2973</td>\n",
       "    </tr>\n",
       "    <tr>\n",
       "      <th>Wednesday</th>\n",
       "      <td>3024</td>\n",
       "    </tr>\n",
       "  </tbody>\n",
       "</table>\n",
       "</div>"
      ],
      "text/plain": [
       "           order_id\n",
       "weekday            \n",
       "Friday         3538\n",
       "Monday         2794\n",
       "Saturday       3158\n",
       "Sunday         2624\n",
       "Thursday       3239\n",
       "Tuesday        2973\n",
       "Wednesday      3024"
      ]
     },
     "execution_count": 44,
     "metadata": {},
     "output_type": "execute_result"
    }
   ],
   "source": [
    "most_ordered_day=orders.groupby([\"weekday\"]).agg({'order_id':'count'})\n",
    "print(\"which day of the week we are getting the most orders :\",most_ordered_day['order_id'].idxmax())\n",
    "\n",
    "most_ordered_day"
   ]
  },
  {
   "cell_type": "code",
   "execution_count": 28,
   "id": "a3575398-03af-4f0a-8bb2-6096f0709ad9",
   "metadata": {},
   "outputs": [
    {
     "data": {
      "image/png": "[encoded data removed]",
      "text/plain": [
       "<Figure size 640x480 with 1 Axes>"
      ]
     },
     "metadata": {},
     "output_type": "display_data"
    }
   ],
   "source": [
    "import matplotlib .pyplot as plt\n",
    "import seaborn as sns\n",
    "sns.countplot(x=\"weekday\",data=orders)\n",
    "plt.title(\"Most Order Day\")\n",
    "plt.show()\n"
   ]
  },
  {
   "cell_type": "markdown",
   "id": "f27bdce4-8388-4edd-a810-dbb11b35999b",
   "metadata": {},
   "source": [
    "# (6) - identify the time at which we are getting high orders and the time at which we are getting the lowest orders.¶"
   ]
  },
  {
   "cell_type": "code",
   "execution_count": 47,
   "id": "664c1421-aace-4892-a0d1-c4e6b5a0cb1b",
   "metadata": {},
   "outputs": [
    {
     "name": "stderr",
     "output_type": "stream",
     "text": [
      "C:\\Users\\hp\\AppData\\Local\\Temp\\ipykernel_14188\\1393817163.py:1: UserWarning: Could not infer format, so each element will be parsed individually, falling back to `dateutil`. To ensure parsing is consistent and as-expected, please specify a format.\n",
      "  orders['time']=pd.to_datetime(orders['time'])\n"
     ]
    },
    {
     "name": "stdout",
     "output_type": "stream",
     "text": [
      "<class 'pandas.core.frame.DataFrame'>\n",
      "RangeIndex: 21350 entries, 0 to 21349\n",
      "Data columns (total 4 columns):\n",
      " #   Column    Non-Null Count  Dtype         \n",
      "---  ------    --------------  -----         \n",
      " 0   order_id  21350 non-null  int64         \n",
      " 1   date      21350 non-null  datetime64[ns]\n",
      " 2   time      21350 non-null  datetime64[ns]\n",
      " 3   weekday   21350 non-null  object        \n",
      "dtypes: datetime64[ns](2), int64(1), object(1)\n",
      "memory usage: 667.3+ KB\n"
     ]
    }
   ],
   "source": [
    "orders['time']=pd.to_datetime(orders['time'])\n",
    "orders.info()"
   ]
  },
  {
   "cell_type": "code",
   "execution_count": 49,
   "id": "370fb945-3de3-407b-afa7-4969ab5fe15e",
   "metadata": {},
   "outputs": [
    {
     "data": {
      "text/html": [
       "<div>\n",
       "<style scoped>\n",
       "    .dataframe tbody tr th:only-of-type {\n",
       "        vertical-align: middle;\n",
       "    }\n",
       "\n",
       "    .dataframe tbody tr th {\n",
       "        vertical-align: top;\n",
       "    }\n",
       "\n",
       "    .dataframe thead th {\n",
       "        text-align: right;\n",
       "    }\n",
       "</style>\n",
       "<table border=\"1\" class=\"dataframe\">\n",
       "  <thead>\n",
       "    <tr style=\"text-align: right;\">\n",
       "      <th></th>\n",
       "      <th>order_id</th>\n",
       "      <th>date</th>\n",
       "      <th>time</th>\n",
       "      <th>weekday</th>\n",
       "      <th>hour</th>\n",
       "    </tr>\n",
       "  </thead>\n",
       "  <tbody>\n",
       "    <tr>\n",
       "      <th>0</th>\n",
       "      <td>1</td>\n",
       "      <td>2015-01-01</td>\n",
       "      <td>2023-11-30 11:38:36</td>\n",
       "      <td>Thursday</td>\n",
       "      <td>11</td>\n",
       "    </tr>\n",
       "    <tr>\n",
       "      <th>1</th>\n",
       "      <td>2</td>\n",
       "      <td>2015-01-01</td>\n",
       "      <td>2023-11-30 11:57:40</td>\n",
       "      <td>Thursday</td>\n",
       "      <td>11</td>\n",
       "    </tr>\n",
       "    <tr>\n",
       "      <th>2</th>\n",
       "      <td>3</td>\n",
       "      <td>2015-01-01</td>\n",
       "      <td>2023-11-30 12:12:28</td>\n",
       "      <td>Thursday</td>\n",
       "      <td>12</td>\n",
       "    </tr>\n",
       "    <tr>\n",
       "      <th>3</th>\n",
       "      <td>4</td>\n",
       "      <td>2015-01-01</td>\n",
       "      <td>2023-11-30 12:16:31</td>\n",
       "      <td>Thursday</td>\n",
       "      <td>12</td>\n",
       "    </tr>\n",
       "    <tr>\n",
       "      <th>4</th>\n",
       "      <td>5</td>\n",
       "      <td>2015-01-01</td>\n",
       "      <td>2023-11-30 12:21:30</td>\n",
       "      <td>Thursday</td>\n",
       "      <td>12</td>\n",
       "    </tr>\n",
       "    <tr>\n",
       "      <th>...</th>\n",
       "      <td>...</td>\n",
       "      <td>...</td>\n",
       "      <td>...</td>\n",
       "      <td>...</td>\n",
       "      <td>...</td>\n",
       "    </tr>\n",
       "    <tr>\n",
       "      <th>21345</th>\n",
       "      <td>21346</td>\n",
       "      <td>2015-12-31</td>\n",
       "      <td>2023-11-30 20:51:07</td>\n",
       "      <td>Thursday</td>\n",
       "      <td>20</td>\n",
       "    </tr>\n",
       "    <tr>\n",
       "      <th>21346</th>\n",
       "      <td>21347</td>\n",
       "      <td>2015-12-31</td>\n",
       "      <td>2023-11-30 21:14:37</td>\n",
       "      <td>Thursday</td>\n",
       "      <td>21</td>\n",
       "    </tr>\n",
       "    <tr>\n",
       "      <th>21347</th>\n",
       "      <td>21348</td>\n",
       "      <td>2015-12-31</td>\n",
       "      <td>2023-11-30 21:23:10</td>\n",
       "      <td>Thursday</td>\n",
       "      <td>21</td>\n",
       "    </tr>\n",
       "    <tr>\n",
       "      <th>21348</th>\n",
       "      <td>21349</td>\n",
       "      <td>2015-12-31</td>\n",
       "      <td>2023-11-30 22:09:54</td>\n",
       "      <td>Thursday</td>\n",
       "      <td>22</td>\n",
       "    </tr>\n",
       "    <tr>\n",
       "      <th>21349</th>\n",
       "      <td>21350</td>\n",
       "      <td>2015-12-31</td>\n",
       "      <td>2023-11-30 23:02:05</td>\n",
       "      <td>Thursday</td>\n",
       "      <td>23</td>\n",
       "    </tr>\n",
       "  </tbody>\n",
       "</table>\n",
       "<p>21350 rows × 5 columns</p>\n",
       "</div>"
      ],
      "text/plain": [
       "       order_id       date                time   weekday hour\n",
       "0             1 2015-01-01 2023-11-30 11:38:36  Thursday   11\n",
       "1             2 2015-01-01 2023-11-30 11:57:40  Thursday   11\n",
       "2             3 2015-01-01 2023-11-30 12:12:28  Thursday   12\n",
       "3             4 2015-01-01 2023-11-30 12:16:31  Thursday   12\n",
       "4             5 2015-01-01 2023-11-30 12:21:30  Thursday   12\n",
       "...         ...        ...                 ...       ...  ...\n",
       "21345     21346 2015-12-31 2023-11-30 20:51:07  Thursday   20\n",
       "21346     21347 2015-12-31 2023-11-30 21:14:37  Thursday   21\n",
       "21347     21348 2015-12-31 2023-11-30 21:23:10  Thursday   21\n",
       "21348     21349 2015-12-31 2023-11-30 22:09:54  Thursday   22\n",
       "21349     21350 2015-12-31 2023-11-30 23:02:05  Thursday   23\n",
       "\n",
       "[21350 rows x 5 columns]"
      ]
     },
     "execution_count": 49,
     "metadata": {},
     "output_type": "execute_result"
    }
   ],
   "source": [
    "orders[\"hour\"]=orders[\"time\"].dt.strftime(\"%H\")\n",
    "orders"
   ]
  },
  {
   "cell_type": "code",
   "execution_count": 78,
   "id": "9caaa7c3-0ead-4e34-b3f3-10f8941eedc2",
   "metadata": {},
   "outputs": [
    {
     "data": {
      "text/html": [
       "<div>\n",
       "<style scoped>\n",
       "    .dataframe tbody tr th:only-of-type {\n",
       "        vertical-align: middle;\n",
       "    }\n",
       "\n",
       "    .dataframe tbody tr th {\n",
       "        vertical-align: top;\n",
       "    }\n",
       "\n",
       "    .dataframe thead th {\n",
       "        text-align: right;\n",
       "    }\n",
       "</style>\n",
       "<table border=\"1\" class=\"dataframe\">\n",
       "  <thead>\n",
       "    <tr style=\"text-align: right;\">\n",
       "      <th></th>\n",
       "      <th>order_id</th>\n",
       "      <th>date</th>\n",
       "      <th>time</th>\n",
       "      <th>weekday</th>\n",
       "      <th>hour</th>\n",
       "      <th>order_details_id</th>\n",
       "      <th>pizza_id</th>\n",
       "      <th>quantity</th>\n",
       "    </tr>\n",
       "  </thead>\n",
       "  <tbody>\n",
       "    <tr>\n",
       "      <th>0</th>\n",
       "      <td>1</td>\n",
       "      <td>2015-01-01</td>\n",
       "      <td>2023-11-30 11:38:36</td>\n",
       "      <td>Thursday</td>\n",
       "      <td>11</td>\n",
       "      <td>1</td>\n",
       "      <td>hawaiian_m</td>\n",
       "      <td>1</td>\n",
       "    </tr>\n",
       "    <tr>\n",
       "      <th>1</th>\n",
       "      <td>2</td>\n",
       "      <td>2015-01-01</td>\n",
       "      <td>2023-11-30 11:57:40</td>\n",
       "      <td>Thursday</td>\n",
       "      <td>11</td>\n",
       "      <td>2</td>\n",
       "      <td>classic_dlx_m</td>\n",
       "      <td>1</td>\n",
       "    </tr>\n",
       "    <tr>\n",
       "      <th>2</th>\n",
       "      <td>2</td>\n",
       "      <td>2015-01-01</td>\n",
       "      <td>2023-11-30 11:57:40</td>\n",
       "      <td>Thursday</td>\n",
       "      <td>11</td>\n",
       "      <td>3</td>\n",
       "      <td>five_cheese_l</td>\n",
       "      <td>1</td>\n",
       "    </tr>\n",
       "    <tr>\n",
       "      <th>3</th>\n",
       "      <td>2</td>\n",
       "      <td>2015-01-01</td>\n",
       "      <td>2023-11-30 11:57:40</td>\n",
       "      <td>Thursday</td>\n",
       "      <td>11</td>\n",
       "      <td>4</td>\n",
       "      <td>ital_supr_l</td>\n",
       "      <td>1</td>\n",
       "    </tr>\n",
       "    <tr>\n",
       "      <th>4</th>\n",
       "      <td>2</td>\n",
       "      <td>2015-01-01</td>\n",
       "      <td>2023-11-30 11:57:40</td>\n",
       "      <td>Thursday</td>\n",
       "      <td>11</td>\n",
       "      <td>5</td>\n",
       "      <td>mexicana_m</td>\n",
       "      <td>1</td>\n",
       "    </tr>\n",
       "    <tr>\n",
       "      <th>...</th>\n",
       "      <td>...</td>\n",
       "      <td>...</td>\n",
       "      <td>...</td>\n",
       "      <td>...</td>\n",
       "      <td>...</td>\n",
       "      <td>...</td>\n",
       "      <td>...</td>\n",
       "      <td>...</td>\n",
       "    </tr>\n",
       "    <tr>\n",
       "      <th>48615</th>\n",
       "      <td>21348</td>\n",
       "      <td>2015-12-31</td>\n",
       "      <td>2023-11-30 21:23:10</td>\n",
       "      <td>Thursday</td>\n",
       "      <td>21</td>\n",
       "      <td>48616</td>\n",
       "      <td>ckn_alfredo_m</td>\n",
       "      <td>1</td>\n",
       "    </tr>\n",
       "    <tr>\n",
       "      <th>48616</th>\n",
       "      <td>21348</td>\n",
       "      <td>2015-12-31</td>\n",
       "      <td>2023-11-30 21:23:10</td>\n",
       "      <td>Thursday</td>\n",
       "      <td>21</td>\n",
       "      <td>48617</td>\n",
       "      <td>four_cheese_l</td>\n",
       "      <td>1</td>\n",
       "    </tr>\n",
       "    <tr>\n",
       "      <th>48617</th>\n",
       "      <td>21348</td>\n",
       "      <td>2015-12-31</td>\n",
       "      <td>2023-11-30 21:23:10</td>\n",
       "      <td>Thursday</td>\n",
       "      <td>21</td>\n",
       "      <td>48618</td>\n",
       "      <td>napolitana_s</td>\n",
       "      <td>1</td>\n",
       "    </tr>\n",
       "    <tr>\n",
       "      <th>48618</th>\n",
       "      <td>21349</td>\n",
       "      <td>2015-12-31</td>\n",
       "      <td>2023-11-30 22:09:54</td>\n",
       "      <td>Thursday</td>\n",
       "      <td>22</td>\n",
       "      <td>48619</td>\n",
       "      <td>mexicana_l</td>\n",
       "      <td>1</td>\n",
       "    </tr>\n",
       "    <tr>\n",
       "      <th>48619</th>\n",
       "      <td>21350</td>\n",
       "      <td>2015-12-31</td>\n",
       "      <td>2023-11-30 23:02:05</td>\n",
       "      <td>Thursday</td>\n",
       "      <td>23</td>\n",
       "      <td>48620</td>\n",
       "      <td>bbq_ckn_s</td>\n",
       "      <td>1</td>\n",
       "    </tr>\n",
       "  </tbody>\n",
       "</table>\n",
       "<p>48620 rows × 8 columns</p>\n",
       "</div>"
      ],
      "text/plain": [
       "       order_id       date                time   weekday  hour  \\\n",
       "0             1 2015-01-01 2023-11-30 11:38:36  Thursday    11   \n",
       "1             2 2015-01-01 2023-11-30 11:57:40  Thursday    11   \n",
       "2             2 2015-01-01 2023-11-30 11:57:40  Thursday    11   \n",
       "3             2 2015-01-01 2023-11-30 11:57:40  Thursday    11   \n",
       "4             2 2015-01-01 2023-11-30 11:57:40  Thursday    11   \n",
       "...         ...        ...                 ...       ...   ...   \n",
       "48615     21348 2015-12-31 2023-11-30 21:23:10  Thursday    21   \n",
       "48616     21348 2015-12-31 2023-11-30 21:23:10  Thursday    21   \n",
       "48617     21348 2015-12-31 2023-11-30 21:23:10  Thursday    21   \n",
       "48618     21349 2015-12-31 2023-11-30 22:09:54  Thursday    22   \n",
       "48619     21350 2015-12-31 2023-11-30 23:02:05  Thursday    23   \n",
       "\n",
       "       order_details_id       pizza_id  quantity  \n",
       "0                     1     hawaiian_m         1  \n",
       "1                     2  classic_dlx_m         1  \n",
       "2                     3  five_cheese_l         1  \n",
       "3                     4    ital_supr_l         1  \n",
       "4                     5     mexicana_m         1  \n",
       "...                 ...            ...       ...  \n",
       "48615             48616  ckn_alfredo_m         1  \n",
       "48616             48617  four_cheese_l         1  \n",
       "48617             48618   napolitana_s         1  \n",
       "48618             48619     mexicana_l         1  \n",
       "48619             48620      bbq_ckn_s         1  \n",
       "\n",
       "[48620 rows x 8 columns]"
      ]
     },
     "execution_count": 78,
     "metadata": {},
     "output_type": "execute_result"
    }
   ],
   "source": [
    "Time_order=pd.merge(orders,order_details,on='order_id',how='inner')\n",
    "Time_order"
   ]
  },
  {
   "cell_type": "code",
   "execution_count": 79,
   "id": "1ad1329f-844c-4dff-bbd4-e920d33069d3",
   "metadata": {},
   "outputs": [
    {
     "name": "stdout",
     "output_type": "stream",
     "text": [
      "which time we are getting high orders : 12\n",
      "which time we are getting low orders : 9\n"
     ]
    }
   ],
   "source": [
    "high_time=Time_order.groupby(['hour']).agg({'order_details_id':'count'})\n",
    "print(\"which time we are getting high orders :\",high_time['order_details_id'].idxmax())\n",
    "print(\"which time we are getting low orders :\",high_time['order_details_id'].idxmin())\n",
    "     \n"
   ]
  },
  {
   "cell_type": "code",
   "execution_count": 101,
   "id": "787c8b61-7425-4657-9e6e-ee9137f91def",
   "metadata": {},
   "outputs": [
    {
     "data": {
      "image/png": "[encoded data removed]",
      "text/plain": [
       "<Figure size 640x480 with 1 Axes>"
      ]
     },
     "metadata": {},
     "output_type": "display_data"
    }
   ],
   "source": [
    "gb=Time_order.groupby(['hour']).agg({'order_details_id':'count'})\n",
    "\n",
    "plt.plot(gb.index,gb['order_details_id'])\n",
    "plt.title(\"Order timing analyse\")\n",
    "plt.xlabel(\"Hour\")\n",
    "plt.ylabel(\"Order No\")\n",
    "plt.show()\n"
   ]
  },
  {
   "cell_type": "markdown",
   "id": "a0e2d2dd-5e0c-40ae-ade2-17727c9f52f8",
   "metadata": {},
   "source": [
    "# (7) Identify at which time of the day, people are ordering more pizzas(morning/evening/afternoon/night)\n"
   ]
  },
  {
   "cell_type": "code",
   "execution_count": 112,
   "id": "d1a76efe-c717-44c7-9576-bc262c316959",
   "metadata": {},
   "outputs": [
    {
     "data": {
      "text/html": [
       "<div>\n",
       "<style scoped>\n",
       "    .dataframe tbody tr th:only-of-type {\n",
       "        vertical-align: middle;\n",
       "    }\n",
       "\n",
       "    .dataframe tbody tr th {\n",
       "        vertical-align: top;\n",
       "    }\n",
       "\n",
       "    .dataframe thead th {\n",
       "        text-align: right;\n",
       "    }\n",
       "</style>\n",
       "<table border=\"1\" class=\"dataframe\">\n",
       "  <thead>\n",
       "    <tr style=\"text-align: right;\">\n",
       "      <th></th>\n",
       "      <th>order_id</th>\n",
       "      <th>date</th>\n",
       "      <th>time</th>\n",
       "      <th>weekday</th>\n",
       "      <th>hour</th>\n",
       "      <th>order_details_id</th>\n",
       "      <th>pizza_id</th>\n",
       "      <th>quantity</th>\n",
       "      <th>day_time</th>\n",
       "    </tr>\n",
       "  </thead>\n",
       "  <tbody>\n",
       "    <tr>\n",
       "      <th>0</th>\n",
       "      <td>1</td>\n",
       "      <td>2015-01-01</td>\n",
       "      <td>2023-11-30 11:38:36</td>\n",
       "      <td>Thursday</td>\n",
       "      <td>11</td>\n",
       "      <td>1</td>\n",
       "      <td>hawaiian_m</td>\n",
       "      <td>1</td>\n",
       "      <td>morning</td>\n",
       "    </tr>\n",
       "  </tbody>\n",
       "</table>\n",
       "</div>"
      ],
      "text/plain": [
       "   order_id       date                time   weekday  hour  order_details_id  \\\n",
       "0         1 2015-01-01 2023-11-30 11:38:36  Thursday    11                 1   \n",
       "\n",
       "     pizza_id  quantity day_time  \n",
       "0  hawaiian_m         1  morning  "
      ]
     },
     "execution_count": 112,
     "metadata": {},
     "output_type": "execute_result"
    }
   ],
   "source": [
    "Time_order.loc[((Time_order['hour']>=1) & (Time_order['hour']<=12)),\"day_time\"]=\"morning\"\n",
    "Time_order.loc[((Time_order['hour']>12)& (Time_order['hour']<=17)),\"day_time\"]=\"afternoon\"\n",
    "Time_order.loc[((Time_order['hour']>17)& (Time_order['hour']<=24)),\"day_time\"]=\"evening\"\n",
    "Time_order.head(1)\n"
   ]
  },
  {
   "cell_type": "code",
   "execution_count": 113,
   "id": "f4c4171d-ad8c-4c70-96e3-77c350cda3fd",
   "metadata": {},
   "outputs": [
    {
     "data": {
      "text/html": [
       "<div>\n",
       "<style scoped>\n",
       "    .dataframe tbody tr th:only-of-type {\n",
       "        vertical-align: middle;\n",
       "    }\n",
       "\n",
       "    .dataframe tbody tr th {\n",
       "        vertical-align: top;\n",
       "    }\n",
       "\n",
       "    .dataframe thead th {\n",
       "        text-align: right;\n",
       "    }\n",
       "</style>\n",
       "<table border=\"1\" class=\"dataframe\">\n",
       "  <thead>\n",
       "    <tr style=\"text-align: right;\">\n",
       "      <th></th>\n",
       "      <th>order_details_id</th>\n",
       "    </tr>\n",
       "    <tr>\n",
       "      <th>day_time</th>\n",
       "      <th></th>\n",
       "    </tr>\n",
       "  </thead>\n",
       "  <tbody>\n",
       "    <tr>\n",
       "      <th>afternoon</th>\n",
       "      <td>22222</td>\n",
       "    </tr>\n",
       "    <tr>\n",
       "      <th>evening</th>\n",
       "      <td>17162</td>\n",
       "    </tr>\n",
       "    <tr>\n",
       "      <th>morning</th>\n",
       "      <td>9236</td>\n",
       "    </tr>\n",
       "  </tbody>\n",
       "</table>\n",
       "</div>"
      ],
      "text/plain": [
       "           order_details_id\n",
       "day_time                   \n",
       "afternoon             22222\n",
       "evening               17162\n",
       "morning                9236"
      ]
     },
     "execution_count": 113,
     "metadata": {},
     "output_type": "execute_result"
    }
   ],
   "source": [
    "day_T=Time_order.groupby([\"day_time\"]).agg({\"order_details_id\":\"count\"})\n",
    "day_T"
   ]
  },
  {
   "cell_type": "code",
   "execution_count": 1,
   "id": "ea027c8d-e94e-42be-b31e-24dac8839b58",
   "metadata": {},
   "outputs": [
    {
     "ename": "NameError",
     "evalue": "name 'plt' is not defined",
     "output_type": "error",
     "traceback": [
      "\u001b[1;31m---------------------------------------------------------------------------\u001b[0m",
      "\u001b[1;31mNameError\u001b[0m                                 Traceback (most recent call last)",
      "Cell \u001b[1;32mIn[1], line 1\u001b[0m\n\u001b[1;32m----> 1\u001b[0m \u001b[43mplt\u001b[49m\u001b[38;5;241m.\u001b[39mplot(day_T\u001b[38;5;241m.\u001b[39mindex,day_T[\u001b[38;5;124m\"\u001b[39m\u001b[38;5;124morder_details_id\u001b[39m\u001b[38;5;124m\"\u001b[39m])\n\u001b[0;32m      2\u001b[0m plt\u001b[38;5;241m.\u001b[39mtitle(\u001b[38;5;124m\"\u001b[39m\u001b[38;5;124mDay Time\u001b[39m\u001b[38;5;124m\"\u001b[39m)\n\u001b[0;32m      3\u001b[0m plt\u001b[38;5;241m.\u001b[39morder([\u001b[38;5;124m'\u001b[39m\u001b[38;5;124mmorning\u001b[39m\u001b[38;5;124m'\u001b[39m,\u001b[38;5;124m'\u001b[39m\u001b[38;5;124mafternoon\u001b[39m\u001b[38;5;124m'\u001b[39m,\u001b[38;5;124m'\u001b[39m\u001b[38;5;124mevening\u001b[39m\u001b[38;5;124m'\u001b[39m])\n",
      "\u001b[1;31mNameError\u001b[0m: name 'plt' is not defined"
     ]
    }
   ],
   "source": [
    "plt.plot(day_T.index,day_T[\"order_details_id\"])\n",
    "plt.title(\"Day Time\")\n",
    "plt.order(['morning','afternoon','evening'])\n",
    "\n",
    "plt.show()"
   ]
  },
  {
   "cell_type": "code",
   "execution_count": null,
   "id": "c562dd55-5f59-4413-a743-b251e2709e77",
   "metadata": {},
   "outputs": [],
   "source": []
  }
 ],
 "metadata": {
  "kernelspec": {
   "display_name": "Python 3 (ipykernel)",
   "language": "python",
   "name": "python3"
  },
  "language_info": {
   "codemirror_mode": {
    "name": "ipython",
    "version": 3
   },
   "file_extension": ".py",
   "mimetype": "text/x-python",
   "name": "python",
   "nbconvert_exporter": "python",
   "pygments_lexer": "ipython3",
   "version": "3.11.6"
  }
 },
 "nbformat": 4,
 "nbformat_minor": 5
}
