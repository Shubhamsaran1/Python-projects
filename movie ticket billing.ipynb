{
 "cells": [
  {
   "cell_type": "code",
   "execution_count": null,
   "id": "2d685662-e29b-4e24-91fa-0264141e9958",
   "metadata": {},
   "outputs": [],
   "source": [
    " normal_seats=200\n",
    " recliner_seats=100\n",
    " max_seats=300\n",
    " normal_price=250\n",
    " recliner_price=300\n",
    " \n",
    " while True:  \n",
    "   coustomer_name=input(\"enter your name here : \")\n",
    "   seats=input(\"Please Type Normal Or Recliner : \")\n",
    "   if seats==\"normal\"or seats==\"Normal\" :\n",
    "       how_many_normal_seats=int(input(\"how many normal seat you want \"))\n",
    "       if  how_many_normal_seats >normal_seats:\n",
    "           print(\"seats is unavaiable\")\n",
    "           break\n",
    "       \n",
    "       Total_price=how_many_normal_seats *normal_price\n",
    "       normal_seats-=how_many_normal_seats\n",
    "       print(\"coustomer name: \",coustomer_name)\n",
    "       print(\"seat Type :\",seats)\n",
    "       print(\"total seats :\",how_many_normal_seats )\n",
    "       print(\"Total price :\",Total_price)\n",
    "       print(\"_\" *40)\n",
    "       print(\"Remaing normal seats:\",normal_seats)\n",
    "   elif seats==\"recliner\" or seats==\"Recliner\":\n",
    "       how_many_recliner_seats=int(input(\"how many recliner seat you want\"))\n",
    "       if  how_many_recliner_seats >recliner_seats:\n",
    "           print(\"seats is unavaiable\")\n",
    "           break\n",
    "       Total_price=how_many_recliner_seats*recliner_price\n",
    "       recliner_seats-=how_many_recliner_seats\n",
    "       print(\"coustomer name: \",coustomer_name)\n",
    "       print(\"seat Type :\",seats)\n",
    "       print(\"total seats :\",how_many_recliner_seats)\n",
    "       print(\"Total price :\",Total_price)\n",
    "       print(\"_\" *40)\n",
    "       print(\"Remaing recliner seats:\",recliner_seats)\n",
    "   else:\n",
    "       print(\"you have choose Wrong Seats\")\n",
    "       break\n",
    "   new_Coustomer=input(\"do you want to add new coustomer details, Yes Or No: \")\n",
    "   if new_Coustomer==\"Yes\"or new_Coustomer==\"yes\":\n",
    "       print()\n",
    "   else:\n",
    "       (\"error\")\n",
    "       break\n",
    "        \n",
    "  \n",
    "     "
   ]
  }
 ],
 "metadata": {
  "kernelspec": {
   "display_name": "Python 3 (ipykernel)",
   "language": "python",
   "name": "python3"
  },
  "language_info": {
   "codemirror_mode": {
    "name": "ipython",
    "version": 3
   },
   "file_extension": ".py",
   "mimetype": "text/x-python",
   "name": "python",
   "nbconvert_exporter": "python",
   "pygments_lexer": "ipython3",
   "version": "3.11.6"
  }
 },
 "nbformat": 4,
 "nbformat_minor": 5
}
